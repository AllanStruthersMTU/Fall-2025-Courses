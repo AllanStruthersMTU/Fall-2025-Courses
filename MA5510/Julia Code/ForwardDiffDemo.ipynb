{
 "cells": [
  {
   "cell_type": "markdown",
   "id": "f19b1f5d-0ced-42bc-8a3a-785f3ca986fe",
   "metadata": {},
   "source": [
    "# Plan\n",
    "I want to implement Taylor Series methods for the ODE y' = f(y) with y(t0) = y0.  I need a simple AD tool to compute\n",
    " *    y'(t0) = f(y0)\n",
    " *    y''(t0) = f'(y0).y'(t0) \n",
    " *   y'''(t0) = f''(y0).y'(0).y'(t0) + f'(y0).y''(t0)\n",
    " *  ...\n",
    "\n",
    "I need an AD tool that supports vector outputs and vector inputs in a natural and efficient way.  I need something that naturally lets \n",
    "me recursively do one derivative at a time.  It seems as though the ForwardDiff.Dual structure that underlies ForwardDiff \n",
    "is a natural thing to use.  \n",
    "\n",
    "I seem to have various possibilities\n",
    " 1. ForwardDiff.  \n",
    "     * Built in Dual which can nest for higher derivatives.  No Native Vectors. \n",
    "     * Clunky to access the low level for higher derivatives. \n",
    "     * Good for a simple demo. \n",
    " 2. TaylorSeries. \n",
    "     * Not useful. \n",
    " 3. PowerSeries. \n",
    "     * Not useful.\n",
    " 4. GTPSA: \n",
    "     * Generalised Truncated Power Series Algebra library. No Vectors.  Probably not incremental.\n",
    " 5. Enzyme:\n",
    "     * Might be good if it installed/worked.\n",
    "     * Code rewrite.  \n",
    "     * Claims to be efficient for nested forward mode.\n",
    "     * Has a forward over reverse\n",
    "     * Native vectors with simple calling order\n",
    "     * Has a forward ove3r reverse mode built in.\n",
    " 6. Diffractor\n",
    "     * Maybe vaporware\n",
    "     * No documentation\n",
    " 7. TaylorDiff\n",
    "     * Simple interface and meaningful simple example!\n",
    "     \n",
    "First I am going to demo with ForwardDiff then Enzyme on the rosenbrock function.\n",
    "Markdown cell esc-m"
   ]
  },
  {
   "cell_type": "markdown",
   "id": "7a16ca34-0003-4511-ba49-08ad2e355c93",
   "metadata": {},
   "source": [
    "## ForwardDiff"
   ]
  },
  {
   "cell_type": "code",
   "execution_count": 61,
   "id": "d455fece-bfa1-4340-89cf-13ca67f45009",
   "metadata": {},
   "outputs": [
    {
     "name": "stdout",
     "output_type": "stream",
     "text": [
      "Directional derivative two ways! \n",
      "(5.18, 5.179999999999998)\n",
      "Two directional derivatives as a side effect! \n",
      "((2.019999999999998, 5.18, 37.02000000000004), (2.019999999999998, 5.179999999999998, 37.02000000000003))\n",
      "Directional 2nd derivative! \n",
      "(58.459999999999965, 58.46000000000001)\n"
     ]
    }
   ],
   "source": [
    "using ForwardDiff\n",
    "# define rosen \n",
    "function rosen(x)\n",
    "    sum=0.0\n",
    "    for i in 1:length(x)-1\n",
    "        sum+=(1-x[i])^2 + 100.0*(x[i+1]-x[i]^2)^2\n",
    "    end\n",
    "    sum\n",
    "end\n",
    "\n",
    "x = [1.1,1.2,1.3]\n",
    "f = rosen(x)\n",
    "g = ForwardDiff.gradient(rosen,x)\n",
    "J = ForwardDiff.hessian(rosen,x)\n",
    "u = [0.1,0.2,0.3]; v = [0.9,0.8,0.7]\n",
    "tag1=1; tag2=2\n",
    "# Low level 1st derivative computation. Clumsy constuction of array of Dual.  \n",
    "xu = [\n",
    "    ForwardDiff.Dual{tag1}(x[1],u[1]),\n",
    "    ForwardDiff.Dual{tag1}(x[2],u[2]),\n",
    "    ForwardDiff.Dual{tag1}(x[3],u[3])\n",
    "    ]\n",
    "fd=rosen(xu)\n",
    "# Check 1st Ders\n",
    "println(\"Directional derivative two ways! \\n\",(g'*u,(fd.partials)[1]))\n",
    "\n",
    "# Low level 2nd derivative computation. Very clumsy constuction of array of nested Dual.\n",
    "xuv= [\n",
    "    ForwardDiff.Dual{tag1}(ForwardDiff.Dual{tag2}(x[1],u[1]),v[1]),\n",
    "    ForwardDiff.Dual{tag1}(ForwardDiff.Dual{tag2}(x[2],u[2]),v[2]),\n",
    "    ForwardDiff.Dual{tag1}(ForwardDiff.Dual{tag2}(x[3],u[3]),v[3])\n",
    "    ]\n",
    "fdd=rosen(xuv)\n",
    "# Check 2nd Ders\n",
    "(g'*u,(fd.partials)[1])\n",
    "println(\"Two directional derivatives as a side effect! \\n\",(\n",
    "        (f,g'*u,g'*v),\n",
    "        (fdd.value.value,fdd.value.partials[1],(fdd.partials[1]).value)\n",
    "    ))\n",
    "println(\"Directional 2nd derivative! \\n\",(u'*J*v, ((fdd.partials[1]).partials)[1]))"
   ]
  },
  {
   "cell_type": "markdown",
   "id": "9e0f7ec7-129a-4c08-acbb-d3615d5e63ea",
   "metadata": {},
   "source": [
    "for ForwardDiffI need to know how to build an array of nested duals efficiently!"
   ]
  },
  {
   "cell_type": "markdown",
   "id": "6dc3b919-897f-4db5-9e23-05ff8445d628",
   "metadata": {},
   "source": [
    "## Enzyme"
   ]
  },
  {
   "cell_type": "markdown",
   "id": "c514709b-668b-42bd-a838-a5e852f11921",
   "metadata": {},
   "source": [
    "Enzyme did not load under Julia 1.10.0.  It did load under Julia 1.6.3.  However, it does not run their examples from https://enzyme.mit.edu/index.fcgi/julia/stable/  I am giving up for right now. "
   ]
  },
  {
   "cell_type": "code",
   "execution_count": 5,
   "id": "a2b6dd68-8518-4417-949b-9a4e62a13201",
   "metadata": {},
   "outputs": [
    {
     "name": "stderr",
     "output_type": "stream",
     "text": [
      "\u001b[32m\u001b[1m    Updating\u001b[22m\u001b[39m registry at `C:\\Users\\AllanStruthers\\.julia\\registries\\General`\n",
      "\u001b[32m\u001b[1m    Updating\u001b[22m\u001b[39m git-repo `https://github.com/JuliaRegistries/General.git`\n",
      "\u001b[32m\u001b[1m   Resolving\u001b[22m\u001b[39m package versions...\n",
      "\u001b[32m\u001b[1m    Updating\u001b[22m\u001b[39m `C:\\Users\\AllanStruthers\\.julia\\environments\\v1.6\\Project.toml`\n",
      " \u001b[90m [7da242da] \u001b[39m\u001b[92m+ Enzyme v0.9.3\u001b[39m\n",
      "\u001b[32m\u001b[1m    Updating\u001b[22m\u001b[39m `C:\\Users\\AllanStruthers\\.julia\\environments\\v1.6\\Manifest.toml`\n",
      " \u001b[90m [fa961155] \u001b[39m\u001b[92m+ CEnum v0.4.2\u001b[39m\n",
      " \u001b[90m [7da242da] \u001b[39m\u001b[92m+ Enzyme v0.9.3\u001b[39m\n",
      " \u001b[90m [e2ba6199] \u001b[39m\u001b[92m+ ExprTools v0.1.10\u001b[39m\n",
      " \u001b[90m [61eb1bfa] \u001b[39m\u001b[92m+ GPUCompiler v0.14.1\u001b[39m\n",
      " \u001b[90m [929cbde3] \u001b[39m\u001b[92m+ LLVM v4.8.0\u001b[39m\n",
      " \u001b[90m [d8793406] \u001b[39m\u001b[92m+ ObjectFile v0.3.7\u001b[39m\n",
      " \u001b[90m [53d494c1] \u001b[39m\u001b[92m+ StructIO v0.3.1\u001b[39m\n",
      " \u001b[90m [a759f4b9] \u001b[39m\u001b[92m+ TimerOutputs v0.5.25\u001b[39m\n",
      " \u001b[90m [7cc45869] \u001b[39m\u001b[92m+ Enzyme_jll v0.0.29+0\u001b[39m\n",
      " \u001b[90m [dad2f222] \u001b[39m\u001b[92m+ LLVMExtra_jll v0.0.13+3\u001b[39m\n",
      " \u001b[90m [4af54fe1] \u001b[39m\u001b[92m+ LazyArtifacts\u001b[39m\n"
     ]
    }
   ],
   "source": [
    "# in Julia 1.6.3\n",
    "import Pkg\n",
    "# Pkg.rm(\"Enzyme\")\n",
    "Pkg.add(\"Enzyme\")"
   ]
  },
  {
   "cell_type": "code",
   "execution_count": 6,
   "id": "03cb4009-0044-4ff9-b62f-20ef6a3ff0f0",
   "metadata": {},
   "outputs": [
    {
     "ename": "LoadError",
     "evalue": "UndefVarError: ForwardWithPrimal not defined",
     "output_type": "error",
     "traceback": [
      "UndefVarError: ForwardWithPrimal not defined",
      "",
      "Stacktrace:",
      " [1] top-level scope",
      "   @ In[6]:5",
      " [2] eval",
      "   @ .\\boot.jl:360 [inlined]",
      " [3] include_string(mapexpr::typeof(REPL.softscope), mod::Module, code::String, filename::String)",
      "   @ Base .\\loading.jl:1116"
     ]
    }
   ],
   "source": [
    "using Enzyme\n",
    "rosenbrock(x, y) = (1.0 - x)^2 + 100.0 * (y - x^2)^2\n",
    "rosenbrock_inp(x) = (1.0 - x[1])^2 + 100.0 * (x[2] - x[1]^2)^2\n",
    "\n",
    "autodiff(ForwardWithPrimal, rosenbrock, Const(1.0), Duplicated(3.0, 1.0))"
   ]
  },
  {
   "cell_type": "markdown",
   "id": "a877e7ce-634f-4b24-81b1-48314933f688",
   "metadata": {},
   "source": [
    "# TaylorDiff"
   ]
  },
  {
   "cell_type": "markdown",
   "id": "4ffbd61f-db01-455c-99da-1518f5a022cb",
   "metadata": {},
   "source": [
    "Back in Julia 1.10.0"
   ]
  },
  {
   "cell_type": "code",
   "execution_count": 58,
   "id": "5a885b27-5e78-4b7c-b8fb-061ad88fd0a5",
   "metadata": {},
   "outputs": [
    {
     "name": "stdout",
     "output_type": "stream",
     "text": [
      "TaylorScalar{Float64, 3}(10.520000000000012, (27.40000000000002, 24.220000000000002, 8.32)) Note: PS coefficients! \n",
      "(10.520000000000012, 27.400000000000016, 48.44)\n",
      "48.440000000000005 Note: Derivative!\n",
      "No muss, No fuss!\n",
      "TaylorScalar{Float64, 3}[TaylorScalar{Float64, 3}(10.520000000000012, (27.40000000000002, 24.220000000000002, 8.32)), TaylorScalar{Float64, 3}(95.78629800000013, (319.82910400000026, 422.20858400000026, 287.6978080000001))] Note: PS coefficients! \n",
      "No muss, No fuss!\n",
      "Vector{TaylorScalar{Float64, 3}}[[TaylorScalar{Float64, 3}(10.520000000000012, (27.40000000000002, 24.220000000000002, 8.32)), TaylorScalar{Float64, 3}(95.78629800000013, (319.82910400000026, 422.20858400000026, 287.6978080000001))], [TaylorScalar{Float64, 3}(10.520000000000012, (27.40000000000002, 24.220000000000002, 8.32)), TaylorScalar{Float64, 3}(1973.12, (959.8, 211.42000000000002, 22.72))]] Note: PS coefficients! \n",
      "No muss, No fuss!\n",
      "TaylorScalar{Float64, 3}[TaylorScalar{Float64, 3}(10.520000000000012, (27.40000000000002, 24.220000000000002, 8.32)) TaylorScalar{Float64, 3}(95.78629800000013, (319.82910400000026, 422.20858400000026, 287.6978080000001)); TaylorScalar{Float64, 3}(10.520000000000012, (27.40000000000002, 24.220000000000002, 8.32)) TaylorScalar{Float64, 3}(1973.12, (959.8, 211.42000000000002, 22.72))] Note: PS coefficients! \n"
     ]
    }
   ],
   "source": [
    "using ForwardDiff, TaylorDiff\n",
    "# define rosen \n",
    "function rosen(x)\n",
    "    sum=0.0\n",
    "    for i in 1:length(x)-1\n",
    "        sum+=(1-x[i])^2 + 100.0*(x[i+1]-x[i]^2)^2\n",
    "    end\n",
    "    sum\n",
    "end\n",
    "x = [1.1,1.2,1.3,1.4]\n",
    "f = rosen(x)\n",
    "g = ForwardDiff.gradient(rosen,x)\n",
    "J = ForwardDiff.hessian(rosen,x)\n",
    "u = [0.1,0.2,0.3,0.4];\n",
    "# Note the coefficients stored in TaylorScalar are Power Series Coefficients\n",
    "println(TaylorDiff.derivatives(rosen,x,u,Val(3)),\" Note: PS coefficients! \")\n",
    "println((f, g'*u,u'*J*u))\n",
    "println(TaylorDiff.derivative(rosen,x,u,Val(2)),\" Note: Derivative!\")\n",
    "# Trying a vector function in TaylorDiff\n",
    "function rosenvec(x)\n",
    "    [rosen(x), rosen(x.*x)]\n",
    "end\n",
    "println(\"No muss, No fuss!\")\n",
    "println(TaylorDiff.derivatives(rosenvec,x,u,Val(3)),\" Note: PS coefficients! \")\n",
    "# Trying a vec-vec pseudo array in TaylorDiff\n",
    "function rosenPArray(x)\n",
    "    [\n",
    "        [rosen(x), rosen(x.*x)],\n",
    "        [rosen(x), rosen(x.+1)]\n",
    "        ]\n",
    "end\n",
    "println(\"No muss, No fuss!\")\n",
    "println(TaylorDiff.derivatives(rosenPArray,x,u,Val(3)),\" Note: PS coefficients! \")\n",
    "# Trying an array in TaylorDiff\n",
    "function rosenArray(x)\n",
    "    [ \n",
    "    rosen(x) rosen(x.*x)\n",
    "    rosen(x) rosen(x.+1)\n",
    "    ]\n",
    "end\n",
    "println(\"No muss, No fuss!\")\n",
    "println(TaylorDiff.derivatives(rosenArray,x,u,Val(3)),\" Note: PS coefficients! \")"
   ]
  },
  {
   "cell_type": "code",
   "execution_count": 55,
   "id": "1da64551-e840-477d-a7e7-7b54a0bd746d",
   "metadata": {},
   "outputs": [
    {
     "data": {
      "text/plain": [
       "2-element Vector{Vector{Float64}}:\n",
       " [10.520000000000012, 95.78629800000013]\n",
       " [10.520000000000012, 1973.12]"
      ]
     },
     "execution_count": 55,
     "metadata": {},
     "output_type": "execute_result"
    }
   ],
   "source": [
    "rosenArray(x)"
   ]
  },
  {
   "cell_type": "code",
   "execution_count": 2,
   "id": "c98f85d5-8514-49ff-9908-7546a1e6ff50",
   "metadata": {},
   "outputs": [
    {
     "data": {
      "text/plain": [
       "halley (generic function with 1 method)"
      ]
     },
     "execution_count": 2,
     "metadata": {},
     "output_type": "execute_result"
    }
   ],
   "source": [
    "# import Pkg; Pkg.add(\"TaylorDiff\")\n",
    "# Example from TaylorDiff\n",
    "using TaylorDiff, LinearAlgebra\n",
    "import ForwardDiff\n",
    "\n",
    "function newton(f, x, p; tol = 1e-12, maxiter = 100)\n",
    "    fp = Base.Fix2(f, p)\n",
    "    for i in 1:maxiter\n",
    "        fx = fp(x)\n",
    "        error = norm(fx)\n",
    "        println(\"Iteration $i: x = $x, f(x) = $fx, error = $error\")\n",
    "        error < tol && return\n",
    "        J = ForwardDiff.jacobian(fp, x)\n",
    "        a = J \\ fx\n",
    "        @. x -= a\n",
    "    end\n",
    "end\n",
    "\n",
    "function halley(f, x, p; tol = 1e-12, maxiter = 100)\n",
    "    fp = Base.Fix2(f, p)\n",
    "    for i in 1:maxiter\n",
    "        fx = f(x, p)\n",
    "        error = norm(fx)\n",
    "        println(\"Iteration $i: x = $x, f(x) = $fx, error = $error\")\n",
    "        error < tol && return\n",
    "        J = ForwardDiff.jacobian(fp, x)\n",
    "        a = J \\ fx\n",
    "        hvvp = derivative(fp, x, a, Val(2))\n",
    "        b = J \\ hvvp\n",
    "        @. x -= (a * a) / (a - b / 2)\n",
    "    end\n",
    "end"
   ]
  },
  {
   "cell_type": "code",
   "execution_count": 6,
   "id": "5cc6c74a-b986-4080-996f-9aaed42d183d",
   "metadata": {},
   "outputs": [
    {
     "name": "stdout",
     "output_type": "stream",
     "text": [
      "halley\n",
      "Iteration 1: x = [1.0, 1.0], f(x) = [-1.0, -1.0], error = 1.4142135623730951\n",
      "Iteration 2: x = [1.4, 1.4], f(x) = [-0.04000000000000026, -0.04000000000000026], error = 0.05656854249492417\n",
      "Iteration 3: x = [1.4142131979695431, 1.4142131979695431], f(x) = [-1.0306887576749801e-6, -1.0306887576749801e-6], error = 1.4576140196894333e-6\n",
      "Iteration 4: x = [1.414213562373095, 1.414213562373095], f(x) = [-4.440892098500626e-16, -4.440892098500626e-16], error = 6.280369834735101e-16\n",
      "halley\n",
      "Iteration 1: x = [1.0, 1.0], f(x) = [-1.0, -1.0], error = 1.4142135623730951\n",
      "Iteration 2: x = [1.5, 1.5], f(x) = [0.25, 0.25], error = 0.3535533905932738\n",
      "Iteration 3: x = [1.4166666666666667, 1.4166666666666667], f(x) = [0.006944444444444642, 0.006944444444444642], error = 0.009820927516480105\n",
      "Iteration 4: x = [1.4142156862745099, 1.4142156862745099], f(x) = [6.007304882871267e-6, 6.007304882871267e-6], error = 8.495612038666664e-6\n",
      "Iteration 5: x = [1.4142135623746899, 1.4142135623746899], f(x) = [4.510614104447086e-12, 4.510614104447086e-12], error = 6.378971641140442e-12\n",
      "Iteration 6: x = [1.4142135623730951, 1.4142135623730951], f(x) = [4.440892098500626e-16, 4.440892098500626e-16], error = 6.280369834735101e-16\n"
     ]
    }
   ],
   "source": [
    "f(x, p) = x .* x - p\n",
    "println(\"halley\")\n",
    "halley(f, [1., 1.], [2., 2.])\n",
    "println(\"halley\")\n",
    "newton(f, [1., 1.], [2., 2.])"
   ]
  },
  {
   "cell_type": "code",
   "execution_count": null,
   "id": "9eb674ac-51df-4850-a280-fb24e459cb90",
   "metadata": {},
   "outputs": [],
   "source": []
  }
 ],
 "metadata": {
  "kernelspec": {
   "display_name": "Julia 1.10.0",
   "language": "julia",
   "name": "julia-1.10"
  },
  "language_info": {
   "file_extension": ".jl",
   "mimetype": "application/julia",
   "name": "julia",
   "version": "1.10.0"
  }
 },
 "nbformat": 4,
 "nbformat_minor": 5
}
